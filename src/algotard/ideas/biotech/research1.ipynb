{
 "cells": [
  {
   "cell_type": "markdown",
   "metadata": {},
   "source": [
    "Initial idea is to verify that press releases affect the stock price. \n",
    "\n",
    "1. Test that press releases affect the price\n",
    "2. Get the press release of that stock for that day\n",
    "    a. Do a sentiment analysis on the title\n",
    "    b. Check if + sentiment sent the stock up or vice versa\n",
    "\n",
    "\n",
    "Data gotten here: https://www.biopharmcatalyst.com/calendars/historical-catalyst-calendar"
   ]
  },
  {
   "cell_type": "code",
   "execution_count": 1,
   "metadata": {},
   "outputs": [],
   "source": [
    "import pandas as pd\n",
    "import json\n",
    "\n",
    "pd.set_option(\"display.max_columns\", None)"
   ]
  },
  {
   "cell_type": "code",
   "execution_count": 2,
   "metadata": {},
   "outputs": [],
   "source": [
    "# Load JSON from a file\n",
    "with open(\"historical-catalyst-calendar.json\", \"r\") as file:\n",
    "    data = json.load(file)\n",
    "\n",
    "data = data[\"data\"][\"data\"]"
   ]
  },
  {
   "cell_type": "code",
   "execution_count": 3,
   "metadata": {},
   "outputs": [],
   "source": [
    "clean_data = []\n",
    "\n",
    "bad_keys = [\"price_change_sparkline\", \"statuses\"]\n",
    "\n",
    "for item in data:\n",
    "    for key in bad_keys:\n",
    "        if key in item:\n",
    "            del item[key]\n",
    "    clean_data.append(item)"
   ]
  },
  {
   "cell_type": "code",
   "execution_count": 4,
   "metadata": {},
   "outputs": [],
   "source": [
    "df = pd.DataFrame(clean_data)\n",
    "good_cols = [\"date\", \"note\", \"company_ticker\"]\n",
    "dfc = df[good_cols]"
   ]
  },
  {
   "cell_type": "code",
   "execution_count": 6,
   "metadata": {},
   "outputs": [],
   "source": [
    "df.to_csv(\"historical-catalyst-calendar.csv\", index=False)"
   ]
  },
  {
   "cell_type": "code",
   "execution_count": null,
   "metadata": {},
   "outputs": [],
   "source": []
  }
 ],
 "metadata": {
  "kernelspec": {
   "display_name": "algotard",
   "language": "python",
   "name": "python3"
  },
  "language_info": {
   "codemirror_mode": {
    "name": "ipython",
    "version": 3
   },
   "file_extension": ".py",
   "mimetype": "text/x-python",
   "name": "python",
   "nbconvert_exporter": "python",
   "pygments_lexer": "ipython3",
   "version": "3.12.8"
  }
 },
 "nbformat": 4,
 "nbformat_minor": 2
}
